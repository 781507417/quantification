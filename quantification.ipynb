{
 "cells": [
  {
   "cell_type": "code",
   "execution_count": 93,
   "metadata": {
    "collapsed": true,
    "ExecuteTime": {
     "start_time": "2025-02-01T16:57:37.404833Z",
     "end_time": "2025-02-01T16:57:38.432712Z"
    }
   },
   "outputs": [
    {
     "name": "stdout",
     "output_type": "stream",
     "text": [
      "login success!\n",
      "         date       code       open       high        low      close  \\\n",
      "0  2024-01-02  sh.600519  1715.0000  1718.1900  1678.1000  1685.0100   \n",
      "1  2024-01-03  sh.600519  1681.1100  1695.2200  1676.3300  1694.0000   \n",
      "2  2024-01-04  sh.600519  1693.0000  1693.0000  1662.9300  1669.0000   \n",
      "3  2024-01-05  sh.600519  1661.3300  1678.6600  1652.1100  1663.3600   \n",
      "4  2024-01-08  sh.600519  1661.0000  1662.0000  1640.0100  1643.9900   \n",
      "\n",
      "    preclose   volume           amount adjustflag  \n",
      "0  1726.0000  3215644  5440082548.0800          3  \n",
      "1  1685.0100  2022929  3411400667.3300          3  \n",
      "2  1694.0000  2155107  3603970147.1300          3  \n",
      "3  1669.0000  2024286  3373155626.7000          3  \n",
      "4  1663.3600  2558620  4211918629.1400          3  \n",
      "logout success!\n"
     ]
    },
    {
     "data": {
      "text/plain": "<baostock.data.resultset.ResultData at 0x1f9bf093be0>"
     },
     "execution_count": 93,
     "metadata": {},
     "output_type": "execute_result"
    }
   ],
   "source": [
    "import baostock as bs\n",
    "import pandas as pd\n",
    "from pyecharts import options as opts\n",
    "from pyecharts.charts import Kline,Bar,Grid\n",
    "\n",
    "# 登录系统\n",
    "lg = bs.login()\n",
    "\n",
    "# 获取股票历史数据\n",
    "rs = bs.query_history_k_data_plus(\"sh.600519\",\n",
    "\"date,code,open,high,low,close,preclose,volume,amount,adjustflag\",\n",
    "start_date='2024-01-01', end_date='2024-12-31',\n",
    "frequency=\"d\", adjustflag=\"3\")\n",
    "\n",
    "result = pd.DataFrame(rs.get_data())\n",
    "\n",
    "print(result.head())\n",
    "# 登出系统\n",
    "bs.logout()\n"
   ]
  },
  {
   "cell_type": "code",
   "execution_count": 94,
   "outputs": [
    {
     "data": {
      "text/plain": "<pyecharts.charts.basic_charts.kline.Kline at 0x1f9bf301c70>"
     },
     "execution_count": 94,
     "metadata": {},
     "output_type": "execute_result"
    }
   ],
   "source": [
    "# K线\n",
    "\n",
    "kline_org = result.loc[:,['open','close','low','high']].values.tolist()\n",
    "\n",
    "kline = Kline(init_opts=opts.InitOpts(width=\"1800px\",height=\"1000px\"))\n",
    "\n",
    "kline.add_xaxis(list(result.date))\n",
    "kline.add_yaxis(series_name = 'kline',y_axis = kline_org,itemstyle_opts=opts.ItemStyleOpts(color=\"#ec0000\", color0=\"#00da3c\"),)\n",
    "\n",
    "kline.set_global_opts(\n",
    "    xaxis_opts=opts.AxisOpts(is_scale=True),\n",
    "    yaxis_opts=opts.AxisOpts(is_scale=True),\n",
    "    title_opts=opts.TitleOpts(title=\"sh.600519\"),\n",
    "    datazoom_opts=[\n",
    "        opts.DataZoomOpts(\n",
    "            pos_bottom=\"-2%\",\n",
    "            range_start=0,\n",
    "            range_end=100,\n",
    "            type_=\"inside\"\n",
    "        ),\n",
    "        opts.DataZoomOpts(\n",
    "            pos_bottom=\"-2%\",\n",
    "            range_start=0,\n",
    "            range_end=100,\n",
    "            type_=\"slider\",\n",
    "        ),\n",
    "    ],\n",
    "    toolbox_opts=opts.ToolboxOpts(\n",
    "        feature={\n",
    "                \"dataZoom\": {\"yAxisIndex\": \"none\"},\n",
    "                \"restore\": {},\n",
    "                \"saveAsImage\": {},\n",
    "            }\n",
    "        ),\n",
    "    )"
   ],
   "metadata": {
    "collapsed": false,
    "ExecuteTime": {
     "start_time": "2025-02-01T16:57:38.438865Z",
     "end_time": "2025-02-01T16:57:38.502231Z"
    }
   }
  },
  {
   "cell_type": "code",
   "execution_count": 100,
   "outputs": [
    {
     "name": "stdout",
     "output_type": "stream",
     "text": [
      "['3215644', '2022929', '2155107', '2024286', '2558620', '2441204', '1735067', '1644055', '1160324', '1785403', '2590314', '5163276', '6043981', '4637843', '4694589', '3483490', '3321635', '3120580', '2695475', '3142068', '3086633', '2964912', '2648515', '3938202', '5313036', '5247204', '5260107', '4675654', '3697744', '3447007', '4615407', '2279361', '2730589', '2731832', '2207985', '3186731', '2475833', '2686796', '2648477', '3623837', '2214248', '2159912', '2215623', '2989509', '5422654', '2649954', '1940479', '1783358', '2605501', '2394753', '1524925', '1659597', '2545614', '2447285', '2806907', '1811258', '2464218', '1345655', '2713137', '2544925', '2904580', '5916659', '2558982', '2763050', '2276624', '2674433', '3581771', '2626623', '2481911', '2656841', '2349992', '2995139', '2497995', '1708643', '1447648', '3099592', '4133223', '3075989', '5990949', '2492452', '1476909', '2238734', '2620661', '3766212', '2127417', '1573876', '2967954', '2892388', '3142572', '1629339', '2028568', '1888497', '2021663', '2509791', '2352087', '1965128', '3220792', '2185665', '3026105', '2084108', '1905557', '2561005', '3352455', '7024676', '3317050', '3618597', '5951416', '4831816', '4125825', '4126153', '2471068', '4331997', '6383993', '4209795', '2956977', '3282178', '3858202', '3216138', '5185298', '3157326', '2437973', '3882938', '3952705', '3362071', '2376322', '2902014', '2338634', '1917626', '2031644', '3431101', '2887039', '3894291', '2854321', '3094396', '2412255', '2834656', '3235379', '3086907', '5177904', '4327232', '3203810', '2192769', '3773607', '2744433', '2062221', '2513082', '3013849', '1363203', '1630843', '1341431', '2303897', '1645470', '2043279', '1859138', '1509165', '1952729', '1532046', '1562841', '1365740', '3166351', '2747161', '3873923', '3413459', '1788760', '1421109', '1450295', '1032104', '2863755', '1980284', '2099577', '4794831', '5600511', '4618531', '5998821', '3998184', '4554969', '10041281', '7395380', '9727806', '8792167', '15729341', '19470947', '12019684', '7460342', '4191471', '4481202', '4357143', '4666440', '3945955', '6861930', '4200790', '3626913', '4008846', '2392280', '2774508', '3912140', '4116578', '3200574', '2995735', '3228392', '2909292', '4564047', '3763143', '7473872', '6077120', '4385365', '4922266', '2912526', '2924814', '3376112', '2709219', '3326643', '2134455', '1826179', '3343611', '3318556', '2574479', '2593417', '2395203', '3608810', '2681954', '2480662', '2392389', '1614147', '3203969', '1979986', '6031210', '2967112', '4193652', '4951197', '3253710', '5417163', '4116226', '2480932', '2815774', '2160269', '2210492', '1712339', '1828651', '2075932', '2512982', '3935445']\n"
     ]
    },
    {
     "data": {
      "text/plain": "<pyecharts.charts.basic_charts.bar.Bar at 0x1f9bf301a30>"
     },
     "execution_count": 100,
     "metadata": {},
     "output_type": "execute_result"
    }
   ],
   "source": [
    "# 总量\n",
    "\n",
    "volume = Bar(init_opts=opts.InitOpts(width=\"1800px\",height=\"1000px\"))\n",
    "volume_org = list(result.volume.values)\n",
    "print(volume_org)\n",
    "\n",
    "volume.add_xaxis(xaxis_data=list(result.date))\n",
    "volume.add_yaxis(\n",
    "        series_name = \"volume\",\n",
    "        yaxis_data = volume_org,\n",
    "        label_opts = opts.LabelOpts(is_show=False),\n",
    ")\n",
    "\n",
    "volume.set_global_opts(\n",
    "    title_opts=opts.TitleOpts(title='工具栏显示' ),\n",
    "    toolbox_opts=opts.ToolboxOpts(\n",
    "            feature={\n",
    "                \"dataZoom\": {\"yAxisIndex\": \"none\"},\n",
    "                \"restore\": {},\n",
    "                \"saveAsImage\": {},\n",
    "            }\n",
    "    )\n",
    ")\n"
   ],
   "metadata": {
    "collapsed": false,
    "ExecuteTime": {
     "start_time": "2025-02-01T17:02:12.807590Z",
     "end_time": "2025-02-01T17:02:12.836139Z"
    }
   }
  },
  {
   "cell_type": "code",
   "execution_count": 101,
   "outputs": [
    {
     "data": {
      "text/plain": "'C:\\\\Users\\\\78150\\\\Desktop\\\\Pyhton\\\\quantification\\\\volume.html'"
     },
     "execution_count": 101,
     "metadata": {},
     "output_type": "execute_result"
    }
   ],
   "source": [
    "kline.render(\"kline.html\")\n",
    "volume.render(\"volume.html\")"
   ],
   "metadata": {
    "collapsed": false,
    "ExecuteTime": {
     "start_time": "2025-02-01T17:02:13.692698Z",
     "end_time": "2025-02-01T17:02:13.748886Z"
    }
   }
  },
  {
   "cell_type": "code",
   "execution_count": 97,
   "outputs": [],
   "source": [
    "grid = (\n",
    "    Grid(init_opts=opts.InitOpts(theme=ThemeType.INFOGRAPHIC))\n",
    "    # 通过设置图形相对位置，来调整是整个并行图是竖直放置，还是水平放置\n",
    "    .add(bar, grid_opts=opts.GridOpts(pos_bottom=\"60%\"))\n",
    "    .add(line, grid_opts=opts.GridOpts(pos_top=\"60%\"))\n",
    "    .render(\"grid_vertical.html\")\n",
    ")\n"
   ],
   "metadata": {
    "collapsed": false,
    "ExecuteTime": {
     "start_time": "2025-02-01T16:57:38.535981Z",
     "end_time": "2025-02-01T16:57:38.567481Z"
    }
   }
  }
 ],
 "metadata": {
  "kernelspec": {
   "display_name": "Python 3",
   "language": "python",
   "name": "python3"
  },
  "language_info": {
   "codemirror_mode": {
    "name": "ipython",
    "version": 2
   },
   "file_extension": ".py",
   "mimetype": "text/x-python",
   "name": "python",
   "nbconvert_exporter": "python",
   "pygments_lexer": "ipython2",
   "version": "2.7.6"
  }
 },
 "nbformat": 4,
 "nbformat_minor": 0
}
